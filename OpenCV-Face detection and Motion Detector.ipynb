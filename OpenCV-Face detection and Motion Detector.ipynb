{
 "cells": [
  {
   "cell_type": "code",
   "execution_count": null,
   "metadata": {},
   "outputs": [],
   "source": [
    "2+2"
   ]
  },
  {
   "cell_type": "code",
   "execution_count": null,
   "metadata": {
    "scrolled": true
   },
   "outputs": [],
   "source": [
    "import cv2\n",
    "\n",
    "img = cv2.imread (\"image.png\",1)\n",
    "\n",
    "print (img)"
   ]
  },
  {
   "cell_type": "code",
   "execution_count": null,
   "metadata": {
    "scrolled": true
   },
   "outputs": [],
   "source": [
    "import cv2\n",
    "\n",
    "img = cv2.imread (\"image.png\",0)\n",
    "\n",
    "print (img)"
   ]
  },
  {
   "cell_type": "code",
   "execution_count": null,
   "metadata": {},
   "outputs": [],
   "source": [
    "import cv2\n",
    "\n",
    "img = cv2.imread (\"image.png\",0)\n",
    "\n",
    "print (type(img))"
   ]
  },
  {
   "cell_type": "code",
   "execution_count": null,
   "metadata": {},
   "outputs": [],
   "source": [
    "import cv2\n",
    "\n",
    "img = cv2.imread (\"image.png\",0)\n",
    "\n",
    "print (img.shape)"
   ]
  },
  {
   "cell_type": "code",
   "execution_count": null,
   "metadata": {},
   "outputs": [],
   "source": [
    "import cv2\n",
    "\n",
    "img = cv2.imread (\"image.png\",1)\n",
    "\n",
    "print (img.shape)\n"
   ]
  },
  {
   "cell_type": "code",
   "execution_count": null,
   "metadata": {},
   "outputs": [],
   "source": [
    "import numpy as np\n",
    "import cv2\n",
    "\n",
    "img = cv2.imread (\"image.png\",0)\n",
    "\n",
    "cv2.imshow('image',img)\n",
    "cv2.waitKey(0)\n",
    "cv2.destroyAllWindows()\n",
    "#print (img.shape)"
   ]
  },
  {
   "cell_type": "code",
   "execution_count": null,
   "metadata": {},
   "outputs": [],
   "source": [
    "import numpy as np\n",
    "import cv2\n",
    "\n",
    "img = cv2.imread (\"image.png\",0)\n",
    "\n",
    "\n",
    "cv2.imshow('image',img)\n",
    "cv2.waitKey(2000)\n",
    "cv2.destroyAllWindows()"
   ]
  },
  {
   "cell_type": "code",
   "execution_count": null,
   "metadata": {},
   "outputs": [],
   "source": [
    "import numpy as np\n",
    "import cv2\n",
    "\n",
    "img = cv2.imread (\"image.png\",0)\n",
    "\n",
    "resized = cv2.resize(img, (650,500))\n",
    "\n",
    "cv2.imshow('image',resized)\n",
    "cv2.waitKey(2000)\n",
    "cv2.destroyAllWindows()"
   ]
  },
  {
   "cell_type": "code",
   "execution_count": null,
   "metadata": {},
   "outputs": [],
   "source": [
    "import numpy as np\n",
    "import cv2\n",
    "\n",
    "img = cv2.imread (\"image.png\",0)\n",
    "\n",
    "resized = cv2.resize(img, (int(img.shape[1]*2),int(img.shape[0]*2)))\n",
    "\n",
    "cv2.imshow('image',resized)\n",
    "cv2.waitKey(0)\n",
    "cv2.destroyAllWindows()"
   ]
  },
  {
   "cell_type": "code",
   "execution_count": null,
   "metadata": {},
   "outputs": [],
   "source": [
    "import cv2\n",
    "import numpy as np \n",
    "\n",
    "#create a cascade classifier object \n",
    "face_cascade = cv2.CascadeClassifier(\"haarcascade_frontalface_default.xml\")\n",
    "\n",
    "#reading the file\n",
    "img = cv2.imread('person.jpg')\n",
    "\n",
    "#read image as grey scale \n",
    "gray_img = cv2.cvtColor(img,cv2.COLOR_BGR2GRAY)\n",
    "\n",
    "#search the coordinates of the image \n",
    "faces = face_cascade.detectMultiScale(gray_img, scaleFactor = 1.05, minNeighbors = 5)\n",
    "\n",
    "print(type(faces))\n",
    "\n",
    "print(faces)\n",
    "\n",
    "#create rectangular box\n",
    "for x,y,w,h in faces:\n",
    "    img = cv2.rectangle(img, (x,y), (x+w,y+h), (0,255,0), 1)\n",
    "            # rectanglar( var , first point, last point , color, border )\n",
    "    \n",
    "cv2.imshow(\"gray\", img)\n",
    "\n",
    "cv2.waitKey(0)\n",
    "\n",
    "cv2.destroyAllWindows()\n",
    "\n"
   ]
  },
  {
   "cell_type": "code",
   "execution_count": null,
   "metadata": {},
   "outputs": [],
   "source": [
    "import cv2\n",
    "import numpy as np \n",
    "\n",
    "#create a cascade classifier object \n",
    "face_cascade = cv2.CascadeClassifier(\"haarcascade_frontalface_default.xml\")\n",
    "\n",
    "#reading the file\n",
    "img = cv2.imread('person.jpg')\n",
    "\n",
    "#read image as grey scale \n",
    "gray_img = cv2.cvtColor(img,cv2.COLOR_BGR2GRAY)\n",
    "\n",
    "#search the coordinates of the image \n",
    "faces = face_cascade.detectMultiScale(gray_img, scaleFactor = 1.05, minNeighbors = 5)\n",
    "\n",
    "print(type(faces))\n",
    "\n",
    "print(faces)\n",
    "\n",
    "#create rectangular box\n",
    "for x,y,w,h in faces:\n",
    "    img = cv2.rectangle(img, (x,y), (x+w,y+h), (0,255,0), 1)\n",
    "            # rectanglar( var , first point, last point , color, border )\n",
    "    \n",
    "cv2.imshow(\"gray\", img)\n",
    "\n",
    "cv2.waitKey(0)\n",
    "\n",
    "cv2.destroyAllWindows()\n",
    "\n"
   ]
  },
  {
   "cell_type": "code",
   "execution_count": null,
   "metadata": {},
   "outputs": [],
   "source": [
    "import numpy as np \n",
    "import cv2,time\n",
    "\n",
    "video = cv2.VideoCapture(0)\n",
    "\n",
    "check, frame = video.read()\n",
    "\n",
    "print(check)\n",
    "print(frame)\n",
    "\n",
    "time.sleep(3)\n",
    "\n",
    "cv2.imshow(\"Capture Image \",frame)\n",
    "\n",
    "cv2.waitKey(0)\n",
    "\n",
    "video.release()\n",
    "\n",
    "cv2.destroyAllWindows()"
   ]
  },
  {
   "cell_type": "code",
   "execution_count": null,
   "metadata": {},
   "outputs": [],
   "source": [
    "import numpy as np \n",
    "import cv2,time\n",
    "\n",
    "video = cv2.VideoCapture(0)\n",
    "\n",
    "a = 1 \n",
    "\n",
    "while True:\n",
    "    a = a + 1\n",
    "\n",
    "    check, frame = video.read()\n",
    "    print(frame)\n",
    "    \n",
    "    gray = cv2.cvtColor(frame, cv2.COLOR_BGR2GRAY)\n",
    "    \n",
    "    cv2.imshow(\"Capture Video Bro \",gray)\n",
    "    \n",
    "    key = cv2.waitKey(1)\n",
    "    \n",
    "    if key == ord('q'):\n",
    "        break\n",
    "\n",
    "print(a)\n",
    "\n",
    "video.release()\n",
    "\n",
    "cv2.destroyAllWindows()"
   ]
  },
  {
   "cell_type": "code",
   "execution_count": null,
   "metadata": {},
   "outputs": [],
   "source": [
    "import numpy as np \n",
    "import cv2,time,pandas\n",
    "\n",
    "first_frame = None\n",
    "status_list = [None, None]\n",
    "times = []\n",
    "df = pandas.DataFrame(columns= [\"Start\",\"End\"])\n",
    "\n",
    "video = cv2.VideoCapture(0)\n",
    "\n",
    "while True:\n",
    "\n",
    "    check, frame = video.read()\n",
    "    print(frame)\n",
    "    status = 0\n",
    "    gray = cv2.cvtColor(frame, cv2.COLOR_BGR2GRAY)\n",
    "    gray = cv2.GaussianBlur(gray, (21, 21), 0)\n",
    "    \n",
    "    if first_frame is None:\n",
    "        first_frame = gray\n",
    "        continue\n",
    "        \n",
    "    delta_frame = cv2.absdiff(first_frame, gray)\n",
    "    thresh_delta = cv2.threshold(delta_frame, 30, 255, cv2.THRESH_BINARY)[1]\n",
    "    thresh_delta = cv2.dilate(thresh_delta, None, iterations=0 )\n",
    "    cnts,hierachy=cv2.findContours(thresh_delta,cv2.RETR_TREE,cv2.CHAIN_APPROX_SIMPLE)\n",
    "   #(_,cnts,_) = cv2.findContours(thresh_delta.copy(), cv2.RETR_EXTERNAL, cv2.CHAIN_APPROX_SIMPLE)\n",
    "    \n",
    "    \n",
    "    for contour in cnts:\n",
    "        if cv2.contourArea(contour) < 1000:\n",
    "            continue\n",
    "        status = 1\n",
    "        (x, y, w, h) = cv2.boundingReact(contour)\n",
    "        cv2.reactangle(frame, (x, y), (x+w, y+h), (0, 255, 0), 3)\n",
    "\n",
    "    status_list.append(status)\n",
    "    status_list=status_list[-2:]\n",
    "    \n",
    "    if status_list[-1]==1 and status_list[-2]==0:\n",
    "        times.append(datetime.now())\n",
    "    if status_list[-1]==0 and status_list[-2]==1:\n",
    "        times.append(datetime.now())\n",
    "        \n",
    "\n",
    "    #v2.imshow(\"frame\", frame)\n",
    "    cv2.imshow(\"Capturing\", gray)\n",
    "    #cv2.imshow(\"delta\", delta_frame)\n",
    "    #cv2.imshow(\"thresh\",thresh_delta)\n",
    "       \n",
    "    key = cv2.waitKey(1)\n",
    "    \n",
    "    if key == ord('q'):\n",
    "        break\n",
    "        \n",
    "for i in range(0, len(times), 2):\n",
    "    df=df.append((\"Start:\".times[i],\"End:\".time[i+1]), ignore_index=True )\n",
    "    \n",
    "df.to_csv(\"Times.csv\")\n",
    "\n",
    "video.release()\n",
    "\n",
    "cv2.destroyAllWindows()"
   ]
  },
  {
   "cell_type": "code",
   "execution_count": null,
   "metadata": {},
   "outputs": [],
   "source": []
  }
 ],
 "metadata": {
  "kernelspec": {
   "display_name": "Python 3",
   "language": "python",
   "name": "python3"
  },
  "language_info": {
   "codemirror_mode": {
    "name": "ipython",
    "version": 3
   },
   "file_extension": ".py",
   "mimetype": "text/x-python",
   "name": "python",
   "nbconvert_exporter": "python",
   "pygments_lexer": "ipython3",
   "version": "3.5.2"
  }
 },
 "nbformat": 4,
 "nbformat_minor": 2
}
